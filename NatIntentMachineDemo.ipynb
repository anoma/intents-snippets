{
 "cells": [
  {
   "cell_type": "code",
   "execution_count": 1,
   "id": "f83c42c2-c6e2-45c0-a65f-dbd67be49bcb",
   "metadata": {},
   "outputs": [],
   "source": [
    "from ortools.linear_solver import pywraplp"
   ]
  },
  {
   "cell_type": "code",
   "execution_count": 2,
   "id": "9a8d381b-6eb9-4069-82a4-430a606d46e9",
   "metadata": {},
   "outputs": [],
   "source": [
    "M = 1000"
   ]
  },
  {
   "cell_type": "code",
   "execution_count": 3,
   "id": "923e3b32-6b9e-4495-8956-b1f7cdfaf44b",
   "metadata": {},
   "outputs": [],
   "source": [
    "def even_constraint(last_state, next_state_var, solver):\n",
    "    n = solver.IntVar(0, solver.infinity(), 'n_even')\n",
    "    b = solver.BoolVar('b_even')\n",
    "    solver.Add(next_state_var - 2 * n <= M * (1 - b))\n",
    "    solver.Add(next_state_var - 2 * n >= -M * (1 - b))\n",
    "    return [(b, 1)]\n",
    "\n",
    "def odd_constraint(last_state, next_state_var, solver):\n",
    "    n = solver.IntVar(0, solver.infinity(), 'n_odd')\n",
    "    b = solver.BoolVar('b_odd')\n",
    "    solver.Add(next_state_var - 2 * n - 1 <= M * (1 - b))\n",
    "    solver.Add(next_state_var - 2 * n - 1 >= -M * (1 - b))\n",
    "    return [(b, 1)]\n",
    "\n",
    "def two_changes_constraint(last_state, next_state_var, solver):\n",
    "    b_2_greater = solver.BoolVar('b_2_greater')\n",
    "    b_1_greater = solver.BoolVar('b_1_greater')\n",
    "    b_no_change = solver.BoolVar('b_no_change')\n",
    "    solver.Add(next_state_var - (last_state + 2) <= M * (1 - b_2_greater))\n",
    "    solver.Add(next_state_var - (last_state + 2) >= -M * (1 - b_2_greater))\n",
    "    solver.Add(next_state_var - (last_state + 1) <= M * (1 - b_1_greater))\n",
    "    solver.Add(next_state_var - (last_state + 1) >= -M * (1 - b_1_greater))\n",
    "    solver.Add(next_state_var - last_state <= M * (1 - b_no_change))\n",
    "    solver.Add(next_state_var - last_state >= -M * (1 - b_no_change))\n",
    "    return [(b_2_greater, 1), (b_1_greater, 0.5), (b_no_change, 0)]\n",
    "\n",
    "def one_more_or_less_constraint(last_state, next_state_var, solver):\n",
    "    b1 = solver.BoolVar('b_one_more')\n",
    "    b2 = solver.BoolVar('b_one_less')\n",
    "    solver.Add(next_state_var - (last_state + 1) <= M * (1 - b1))\n",
    "    solver.Add(next_state_var - (last_state + 1) >= -M * (1 - b1))\n",
    "    solver.Add(next_state_var - (last_state - 1) <= M * (1 - b2))\n",
    "    solver.Add(next_state_var - (last_state - 1) >= -M * (1 - b2))\n",
    "    return [(b1, 1), (b2, 1)]"
   ]
  },
  {
   "cell_type": "code",
   "execution_count": 10,
   "id": "abda1be6-a120-49c5-9635-8429cee43203",
   "metadata": {},
   "outputs": [],
   "source": [
    "def machine(state, constraints_dict):\n",
    "    solver = pywraplp.Solver.CreateSolver('SCIP')\n",
    "    if not solver:\n",
    "        raise Exception('SCIP solver not available.')\n",
    "        \n",
    "    solver.SetTimeLimit(30000)\n",
    "    \n",
    "    next_state_var = solver.IntVar(0.0, solver.infinity(), 'next_state_var')\n",
    "    \n",
    "    objective = solver.Objective()\n",
    "    objective.SetMaximization()\n",
    "    bool_vars = {} # Dictionary to store solver boolean variables\n",
    "    \n",
    "    for name, (constraint_func, weight) in constraints_dict.items():\n",
    "        for b, w in constraint_func(state, next_state_var, solver):\n",
    "            bool_vars[b] = name # Store the constraint name\n",
    "            objective.SetCoefficient(b, w * weight)\n",
    "    \n",
    "    status = solver.Solve()\n",
    "    total_objective = objective.Value() # Get the total objective value\n",
    "    satisfied_constraints = []\n",
    "    \n",
    "    if status in [pywraplp.Solver.OPTIMAL, pywraplp.Solver.FEASIBLE, pywraplp.Solver.ABNORMAL]:\n",
    "        new_state = next_state_var.solution_value()\n",
    "    \n",
    "        for b in bool_vars.keys():\n",
    "            if b.solution_value() > 0.5:\n",
    "                satisfied_constraints.append(bool_vars[b]) # Get the constraint name\n",
    "        return new_state, satisfied_constraints, total_objective\n",
    "    else:\n",
    "        return state, [], total_objective"
   ]
  },
  {
   "cell_type": "code",
   "execution_count": 11,
   "id": "3b25552e-b647-4fcb-bf4b-c115ba854782",
   "metadata": {},
   "outputs": [],
   "source": [
    "constraints_dict = {\n",
    "    'even': (even_constraint, 1),\n",
    "    'odd': (odd_constraint, 1),\n",
    "    'two_changes': (two_changes_constraint, 1),\n",
    "    'one_more_or_less': (one_more_or_less_constraint, 1)\n",
    "}"
   ]
  },
  {
   "cell_type": "code",
   "execution_count": 12,
   "id": "a22b79f3-1806-4e44-8b8f-780859e5d8f0",
   "metadata": {},
   "outputs": [
    {
     "name": "stdout",
     "output_type": "stream",
     "text": [
      "New state: 6.0, Satisfied constraints: ['even', 'two_changes', 'one_more_or_less'], Total Objective: 2.4999999999999996\n"
     ]
    }
   ],
   "source": [
    "new_state, satisfied, total_objective = machine(5.0, constraints_dict)\n",
    "print(f\"New state: {new_state}, Satisfied constraints: {satisfied}, Total Objective: {total_objective}\")"
   ]
  },
  {
   "cell_type": "code",
   "execution_count": 13,
   "id": "49be8fc0-38e3-4bd3-a527-4bc2134b0cf3",
   "metadata": {},
   "outputs": [],
   "source": [
    "def run_machine_in_sequence(initial_state, list_of_constraints_dicts):\n",
    "    current_state = initial_state\n",
    "    output_states = []\n",
    "    all_satisfied_constraints = []\n",
    "    \n",
    "    for constraints_dict in list_of_constraints_dicts:\n",
    "        new_state, satisfied_constraints, total_objective = machine(current_state, constraints_dict)\n",
    "        output_states.append(new_state)\n",
    "        all_satisfied_constraints.append((satisfied_constraints, total_objective))\n",
    "        current_state = new_state # Update the current state for the next iteration\n",
    "        \n",
    "    return output_states, all_satisfied_constraints"
   ]
  },
  {
   "cell_type": "code",
   "execution_count": 14,
   "id": "01d3da78-ea30-4965-a500-a2e74f09955b",
   "metadata": {},
   "outputs": [
    {
     "data": {
      "text/plain": [
       "([1.0, 2.0, 3.0, 4.0, 5.0, 6.0, 7.0, 8.0, 9.0, 10.0],\n",
       " [(['odd', 'two_changes', 'one_more_or_less'], 2.5),\n",
       "  (['even', 'two_changes', 'one_more_or_less'], 2.5),\n",
       "  (['odd', 'two_changes', 'one_more_or_less'], 2.5),\n",
       "  (['even', 'two_changes', 'one_more_or_less'], 2.5),\n",
       "  (['odd', 'two_changes', 'one_more_or_less'], 2.4999999999999996),\n",
       "  (['even', 'two_changes', 'one_more_or_less'], 2.4999999999999996),\n",
       "  (['odd', 'two_changes', 'one_more_or_less'], 2.5),\n",
       "  (['even', 'two_changes', 'one_more_or_less'], 2.5),\n",
       "  (['odd', 'two_changes', 'one_more_or_less'], 2.4999999999999996),\n",
       "  (['even', 'two_changes', 'one_more_or_less'], 2.4999999999999996)])"
      ]
     },
     "execution_count": 14,
     "metadata": {},
     "output_type": "execute_result"
    }
   ],
   "source": [
    "run_machine_in_sequence(0, [constraints_dict for x in range(10)] )"
   ]
  },
  {
   "cell_type": "code",
   "execution_count": null,
   "id": "5c78696a-69fd-48a2-8bde-9fa7632164da",
   "metadata": {},
   "outputs": [],
   "source": []
  }
 ],
 "metadata": {
  "kernelspec": {
   "display_name": "Python 3 (ipykernel)",
   "language": "python",
   "name": "python3"
  },
  "language_info": {
   "codemirror_mode": {
    "name": "ipython",
    "version": 3
   },
   "file_extension": ".py",
   "mimetype": "text/x-python",
   "name": "python",
   "nbconvert_exporter": "python",
   "pygments_lexer": "ipython3",
   "version": "3.10.12"
  }
 },
 "nbformat": 4,
 "nbformat_minor": 5
}
